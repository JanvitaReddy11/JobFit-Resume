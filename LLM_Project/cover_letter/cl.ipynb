{
 "cells": [
  {
   "cell_type": "code",
   "execution_count": null,
   "metadata": {},
   "outputs": [],
   "source": [
    "job_description = \"\"\" \n",
    "\"\"\""
   ]
  },
  {
   "cell_type": "code",
   "execution_count": 19,
   "metadata": {},
   "outputs": [
    {
     "name": "stdout",
     "output_type": "stream",
     "text": [
      "Collecting fpdf\n",
      "  Downloading fpdf-1.7.2.tar.gz (39 kB)\n",
      "  Preparing metadata (setup.py): started\n",
      "  Preparing metadata (setup.py): finished with status 'done'\n",
      "Building wheels for collected packages: fpdf\n",
      "  Building wheel for fpdf (setup.py): started\n",
      "  Building wheel for fpdf (setup.py): finished with status 'done'\n",
      "  Created wheel for fpdf: filename=fpdf-1.7.2-py2.py3-none-any.whl size=40714 sha256=58cad6a29c14042f9b5e2abb8cb5118b6b0e35033c025f876dcdbfb7bc51132f\n",
      "  Stored in directory: c:\\users\\reddy\\appdata\\local\\pip\\cache\\wheels\\f9\\95\\ba\\f418094659025eb9611f17cbcaf2334236bf39a0c3453ea455\n",
      "Successfully built fpdf\n",
      "Installing collected packages: fpdf\n",
      "Successfully installed fpdf-1.7.2\n"
     ]
    }
   ],
   "source": [
    "!pip install fpdf\n"
   ]
  },
  {
   "cell_type": "code",
   "execution_count": null,
   "metadata": {},
   "outputs": [],
   "source": [
    "\n",
    "from groq import Groq\n",
    "import os\n",
    "import datetime\n",
    "import subprocess\n",
    "import time\n",
    "from dotenv import load_dotenv\n",
    "import json\n",
    "\n",
    "load_dotenv()\n",
    "api_key = os.getenv('GROQ_API_KEY')\n",
    "client = Groq(api_key=api_key)"
   ]
  },
  {
   "cell_type": "code",
   "execution_count": null,
   "metadata": {},
   "outputs": [],
   "source": [
    "job_description = \"\"\"\n",
    " About the job\n",
    "\n",
    "Mercor is training models that predict job performance better than a human can. Our technology is so powerful that it’s trusted by customers ranging from startups making their first hires to the largest AI labs hiring thousands of experts to train LLMs.\n",
    "\n",
    "\n",
    "We’re at an 8-figure revenue run rate, growing 50% MoM, and have raised $32M from investors like Benchmark, General Catalyst, Peter Thiel, Jack Dorsey, Adam D'Angelo, and Larry Summers.\n",
    "\n",
    "\n",
    "---------------------------------------------------------------\n",
    "\n",
    "\n",
    "Regardless of whether you have human data experience, we think that successful Machine Learning Engineers at Mercor should have a solid technical background, demonstrated through:\n",
    "\n",
    "\n",
    "    2+ years of experience in back-end development (e.g., Python / Django)\n",
    "    Strong understanding of database design, SQL, and commonly used algorithms\n",
    "    Some experience with cloud platforms (GCP or AWS) and infrastructure management\n",
    "    Experience working with LLMs and/or other transformer-based models such as BERT\n",
    "    Experience with search or recommendation systems, data classification, or LTR models\n",
    "    Able to quickly understand complex problems & rapidly develop minimum viable solutions\n",
    "    Attention to detail, particularly in terms of producing high-quality, stable code that can support rapid scaling\n",
    "    A strong belief in regularly testing and using the things you build, and a strong sense of ownership for everything you’ve developed\n",
    "\n",
    "\n",
    "\n",
    "\n",
    "\n",
    "\"\"\""
   ]
  },
  {
   "cell_type": "code",
   "execution_count": 2,
   "metadata": {},
   "outputs": [],
   "source": [
    "import json\n",
    "\n",
    "with open('../resume.json') as f:\n",
    "    resume_json = json.load(f)"
   ]
  },
  {
   "cell_type": "code",
   "execution_count": 40,
   "metadata": {},
   "outputs": [],
   "source": [
    "from groq import Groq\n",
    "import os\n",
    "import json\n",
    "from fpdf import FPDF\n",
    "from dotenv import load_dotenv\n",
    "\n",
    "# Load API key from environment variables\n",
    "load_dotenv()\n",
    "api_key = os.getenv('GROQ_API_KEY')\n",
    "if not api_key:\n",
    "    raise ValueError(\"GROQ_API_KEY is missing from environment variables.\")\n",
    "\n",
    "client = Groq(api_key=api_key)\n",
    "\n",
    "class PDF(FPDF):\n",
    "    \"\"\"Custom PDF class to handle cover letter formatting.\"\"\"\n",
    "    def header(self):\n",
    "        # Only add the \"Cover Letter\" heading on the first page\n",
    "        if self.page_no() == 1:\n",
    "            self.set_font('Arial', 'B', 14)\n",
    "            self.cell(0, 12, 'Cover Letter', align='C', ln=1)\n",
    "            self.ln(10)  # Add some space after the heading\n",
    "\n",
    "def generate_cover_letter(job_description: dict, resume: dict) -> None:\n",
    "    \"\"\"\n",
    "    Generate a personalized cover letter based on a job description and resume.\n",
    "    \"\"\"\n",
    "    # Extract candidate name\n",
    "    \n",
    "    # Define the LLM prompt\n",
    "    prompt = f\"\"\"\n",
    "    You are an expert cover letter writer. Write a personalized cover letter for the following job description and resume:\n",
    "\n",
    "    Job Description:\n",
    "    {json.dumps(job_description, indent=4)}\n",
    "\n",
    "    Resume:\n",
    "    {json.dumps(resume, indent=4)}\n",
    "\n",
    "    The cover letter should in the below format\n",
    "    - Begin with \n",
    "    'Dear Hiring Manager'\n",
    "    - First paragraph: Introduce the candidate and their background, highlighting relevant experience and skills.\n",
    "    - Second paragraph: Detail experiences and projects, aligning them with the job requirements. Highlight how the projects and experience align with the job role.\n",
    "    - Third paragraph: Explain why the candidate is ideal for the job and the company.\n",
    "    - Be professional, concise, and tailored to the job requirements.\n",
    "\n",
    "    Thanking you,\n",
    "    candidate_name\n",
    "    \"\"\"\n",
    "\n",
    "    try:\n",
    "        # Query the LLM to generate the cover letter\n",
    "        completion = client.chat.completions.create(\n",
    "            model=\"llama3-70b-8192\",  # Replace with your actual model name\n",
    "            messages=[{\"role\": \"user\", \"content\": prompt}],\n",
    "            temperature=0.7,\n",
    "            max_tokens=2048,\n",
    "            top_p=0.9,\n",
    "            stream=False,\n",
    "            stop=None,\n",
    "        )\n",
    "\n",
    "        # Extract the generated cover letter\n",
    "        if completion.choices and completion.choices[0].message:\n",
    "            cover_letter = completion.choices[0].message.content\n",
    "\n",
    "            start_index = cover_letter.lower().find(\"dear\")\n",
    "            if start_index == -1:\n",
    "                print('Error')\n",
    "            else:\n",
    "                cover_letter = cover_letter[start_index:]        \n",
    "\n",
    "            # Generate a PDF from the cover letter\n",
    "            pdf = PDF()\n",
    "            pdf.set_auto_page_break(auto=True, margin=15)\n",
    "            pdf.add_page()\n",
    "            pdf.set_left_margin(20)\n",
    "            pdf.set_right_margin(20)\n",
    "            pdf.set_font('Arial', size=10)\n",
    "\n",
    "            # Add the cover letter content\n",
    "            for line in cover_letter.splitlines():\n",
    "                pdf.multi_cell(0, 5, line, border=0, align='J')\n",
    "\n",
    "            # Save the PDF\n",
    "            output_file = \"cover_letter.pdf\"\n",
    "            pdf.output(output_file)\n",
    "\n",
    "            print(f\"Cover letter successfully saved to '{output_file}'.\")\n",
    "\n",
    "        else:\n",
    "            print(\"No response received from the LLM. Please try again.\")\n",
    "\n",
    "    except Exception as e:\n",
    "        print(f\"Error in LLM processing: {e}\")\n"
   ]
  },
  {
   "cell_type": "code",
   "execution_count": 41,
   "metadata": {},
   "outputs": [
    {
     "name": "stdout",
     "output_type": "stream",
     "text": [
      "Cover letter successfully saved to 'cover_letter.pdf'.\n"
     ]
    }
   ],
   "source": [
    "generate_cover_letter(job_description, resume_json)"
   ]
  }
 ],
 "metadata": {
  "kernelspec": {
   "display_name": "venv",
   "language": "python",
   "name": "python3"
  },
  "language_info": {
   "codemirror_mode": {
    "name": "ipython",
    "version": 3
   },
   "file_extension": ".py",
   "mimetype": "text/x-python",
   "name": "python",
   "nbconvert_exporter": "python",
   "pygments_lexer": "ipython3",
   "version": "3.10.0"
  }
 },
 "nbformat": 4,
 "nbformat_minor": 2
}
