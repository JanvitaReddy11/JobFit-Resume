{
 "cells": [
  {
   "cell_type": "code",
   "execution_count": 1,
   "metadata": {},
   "outputs": [],
   "source": [
    "job_description = \"\"\"\n",
    " About the job\n",
    "Life Unlimited. At Smith+Nephew we design and manufacture technology that takes the limits off living.\n",
    "\n",
    "This is a great opportunity to apply your engineering expertise driving the development of market-leading solutions for health care providers and their patients. This role will expand the Smith+Nephew Ear, Nose, and Throat (ENT) product portfolio, which includes single-use disposable devise, electrosurgical devices, and systems. Successful candidates will provide technical leadership of research and development activities from ideation through commercialization, including device design, prototyping, user evaluation, test method development, risk evaluation, verification, and validation, while ensuring compliance with applicable standards and documentation required for the product.\n",
    "\n",
    "What will you be doing? \n",
    "\n",
    "Design, prototype, and develop innovative concepts for new and/or improved products for minimally invasive and open surgical procedures that meet customer needs, manufacturability (DFM) targets, quality requirements, and reliability goals. \n",
    "Generate design control requirements including design inputs, 3D models and assemblies, model-driven drawings, and detailed specifications in accordance with medical device regulatory guidelines (e.g. US FDA, European MDR, ISO, etc.).\n",
    "Partner with surgeons and other healthcare professionals to identify unmet user needs, improve product designs, support usability characterization, and then translate customer inputs and feedback into user needs and design requirements.\n",
    "Generate intellectual property in support of novel ideas and concepts.\n",
    "Collaborate closely and effectively with cross-functional partners, including Marketing, Quality Assurance, Regulatory Affairs, Procurement, and Manufacturing to drive projects to completion within schedule.\n",
    "Identify, collaborate with, and manage internal partners and external vendors on material selection, tool design, manufacturing technologies and specifications for components, subassemblies, and finished assemblies as required. \n",
    "Manage the working partnerships with multiple external resources contracted for the concept/product development, prototype/pilot fabrication, and testing of devices. \n",
    "Evaluate physical systems and designs using analytical and experimental methods including, but not limited to, Finite Element Analysis (FEA), Computational Fluid Dynamics (CFD), mechanical force application, electrical data acquisition, audio and video capture.\n",
    "Define test methods, develop test fixtures, generate design verification and design validation test plans, execute testing of complex mechanical and/or electro-mechanical systems, and author test protocols and reports.\n",
    "Conduct root cause analysis of technical problems encountered throughout a project (e.g. observation, manipulation, and testing of failed systems), and identify and assess potential solutions.\n",
    "Support pre-clinical and/or clinical testing of devices and systems.\n",
    "Conduct detailed design reviews at various design stages.\n",
    "\n",
    "\n",
    "What will you need to be successful? \n",
    "\n",
    "Education: \n",
    "B.S. or M.S. degree in Mechanical or Biomedical Engineering, or other closely related field.\n",
    "Experience:\n",
    "B.S. degree + 6 years hands-on experience in medical, medical diagnostic, aerospace, automotive, or similarly regulated field.\n",
    "M.S. degree + 3 years hands-on experience in medical, medical diagnostic, aerospace, automotive, or similarly regulated field.\n",
    "Minimum 2 years in the medical device industry with experience at all stages of a product lifecycle from ideation to commercialization\n",
    "The ideal candidate is passionate, driven and motivated to succeed while maintaining a positive team environment.\n",
    "Leadership if any: \n",
    "Technical oversight and leadership of projects and sub-systems.\n",
    "No direct managerial responsibilities but may be asked to mentor and train junior staff.\n",
    "Travel Requirements: \n",
    "10-25%, depending on program or phase of program; may require occasional international travel.\n",
    "\n",
    "\n",
    "\n",
    "\"\"\""
   ]
  },
  {
   "cell_type": "code",
   "execution_count": 2,
   "metadata": {},
   "outputs": [],
   "source": [
    "import json\n",
    "\n",
    "with open('../resume.json') as f:\n",
    "    resume_json = json.load(f)"
   ]
  },
  {
   "cell_type": "code",
   "execution_count": 3,
   "metadata": {},
   "outputs": [],
   "source": [
    "candidate_proj = resume_json['projects']"
   ]
  },
  {
   "cell_type": "code",
   "execution_count": 4,
   "metadata": {},
   "outputs": [
    {
     "data": {
      "text/plain": [
       "[{'title': 'Multivariate Analysis SPC',\n",
       "  'description': ['Enhanced a complex manufacturing dataset through Multivariate Analysis SPC and PCA',\n",
       "   'Streamlined data by eliminating outliers']},\n",
       " {'title': 'Knifeless RF Sealer',\n",
       "  'description': ['Engineered a knifeless RF sealer for minimally invasive surgeries',\n",
       "   'Ensured safety and quality through comprehensive tests']},\n",
       " {'title': 'Brain Tumor MRI detection',\n",
       "  'description': ['Utilized EfficientNet B0 and YOLO models for the accurate classification and real-time detection of brain tumors from MRI images']}]"
      ]
     },
     "execution_count": 4,
     "metadata": {},
     "output_type": "execute_result"
    }
   ],
   "source": [
    "candidate_proj"
   ]
  },
  {
   "cell_type": "code",
   "execution_count": 8,
   "metadata": {},
   "outputs": [],
   "source": [
    "from groq import Groq\n",
    "import os\n",
    "import datetime\n",
    "import subprocess\n",
    "import time\n",
    "from dotenv import load_dotenv"
   ]
  },
  {
   "cell_type": "code",
   "execution_count": 9,
   "metadata": {},
   "outputs": [],
   "source": [
    "load_dotenv()\n",
    "api_key = os.getenv('GROQ_API_KEY')\n",
    "client = Groq(api_key=api_key)"
   ]
  },
  {
   "cell_type": "code",
   "execution_count": 10,
   "metadata": {},
   "outputs": [],
   "source": [
    "import json\n",
    "import time\n",
    "\n",
    "def analyze_projects(candidate_profile: dict, job_description: dict) -> None:\n",
    "    # Step 1: Define the refined prompt for the LLM (this will optimize the project section)\n",
    "    prompt = f\"\"\"\n",
    "    You are an expert resume writer and a professional ATS (Applicant Tracking System) optimization specialist. Your task is to enhance the candidate's \"Project\" section in their profile to make it more aligned with the provided job description. Follow the steps below carefully:\n",
    "\n",
    "    1. **Analyze the Job Description**:\n",
    "       - Extract the key responsibilities, skills, technologies, and metrics that are critical for the role.\n",
    "       - Focus on the most important aspects that the ideal candidate should demonstrate.\n",
    "\n",
    "    2. **Optimize the Candidate's Project Section**:\n",
    "       - Carefully review the \"Project\" section in the candidate's profile.\n",
    "       - For each bullet point:\n",
    "         - Start with a strong, impactful action verb (e.g., \"Led,\" \"Developed,\" \"Implemented\").\n",
    "         - Follow the STAR method to ensure each project is well-structured:\n",
    "           - **Situation**: Briefly describe the context or challenge you faced.\n",
    "           - **Task**: Explain the task you were responsible for.\n",
    "           - **Action**: Detail the actions you took to address the task or challenge.\n",
    "           - **Result**: Quantify the outcome, emphasizing achievements and impact only if it is mentioned. Do not add extra metrics or values on your own.\n",
    "         - Quantify achievements wherever possible usinng already existing metrics, but **do not add new metrics**.\n",
    "         - Emphasize relevant skills, technologies, software, and accomplishments that align with the job description.\n",
    "         = Try to enhance the work of the candidate as much as possible, but should be relevant to the job role\n",
    "         - Avoid repetition of action verbs, ensuring each sentence introduces a new verb for variety.\n",
    "         - Ensure that the content aligns closely with the job description and highlights the candidate's most relevant skills.\n",
    "         - If appropriate, incorporate relevant keywords from the job description that can improve ATS compatibility, but only if they make sense in context.\n",
    "         - Prioritize relevance to the specific job.\n",
    "\n",
    "    3. **Ethics and Integrity**:\n",
    "       - Do **not** invent new accomplishments or metrics.\n",
    "       - Avoid exaggerations—keep the information truthful while optimizing the content for clarity and ATS compatibility.\n",
    "\n",
    "    4. **Format the Output**:\n",
    "       - Return the optimized \"Project\" section in JSON format, structured in the same way as the candidate's original profile (e.g., under the \"project\" section).\n",
    "       - Ensure the response is clearly formatted and valid JSON without any extra comments or explanations.\n",
    "\n",
    "    ### Input: Candidate Profile\n",
    "    {json.dumps(candidate_profile, indent=4)}\n",
    "\n",
    "    ### Input: Job Description\n",
    "    {json.dumps(job_description, indent=4)}\n",
    "\n",
    "    Your output should only include:\n",
    "    - The optimized \"Project\" section in JSON format, without any additional explanations.\n",
    "\n",
    "    Ensure your response is ATS-friendly, realistic, and maintains the integrity of the candidate’s profile while making it more appealing to hiring managers.\n",
    "    \"\"\"\n",
    "\n",
    "    try:\n",
    "        # Step 2: Query the LLM to optimize the project section\n",
    "        completion = client.chat.completions.create(\n",
    "            model=\"llama3-70b-8192\",  # Replace with your actual model name\n",
    "            messages=[{\"role\": \"user\", \"content\": prompt}],\n",
    "            temperature=0.7,\n",
    "            max_tokens=2048,\n",
    "            top_p=0.9,\n",
    "            stream=False,\n",
    "            stop=None,\n",
    "        )\n",
    "\n",
    "        # Extracting the content from the first LLM response\n",
    "        if completion.choices and completion.choices[0].message:\n",
    "            first_output = completion.choices[0].message.content\n",
    "            with open('project.txt', 'w') as f:\n",
    "                f.write(first_output)\n",
    "\n",
    "            # Step 3: Define the second prompt for JSON extraction\n",
    "            second_prompt = f\"\"\"\n",
    "            You are a JSON parser and validator. Your task is to extract only the JSON object from the following text, ensuring it is valid and well-formed. Do not include any additional explanations or comments in your response.\n",
    "\n",
    "            ### Input:\n",
    "            {first_output}\n",
    "\n",
    "            ### Output:\n",
    "            Provide only the JSON object.\n",
    "            \"\"\"\n",
    "            \n",
    "            second_response = client.chat.completions.create(\n",
    "                model=\"llama3-70b-8192\",  # Replace with your actual model name\n",
    "                messages=[{\"role\": \"user\", \"content\": second_prompt}],\n",
    "                temperature=0.3,\n",
    "                max_tokens=1024,\n",
    "                top_p=0.9,\n",
    "                stream=False\n",
    "            )\n",
    "\n",
    "            # Extract the second output\n",
    "            second_output = second_response.choices[0].message.content if second_response.choices else None\n",
    "\n",
    "            if not second_output:\n",
    "                print(\"Second LLM did not produce a valid response.\")\n",
    "                return\n",
    "\n",
    "            # Retry mechanism for saving the JSON up to 5 times in case of issues\n",
    "            retries = 5\n",
    "            for attempt in range(retries):\n",
    "                try:\n",
    "                    # Attempt to load the JSON from the second LLM response\n",
    "                    extracted_json = json.loads(second_output.strip())\n",
    "                    \n",
    "                    # Write the JSON to a file\n",
    "                    with open(\"project.json\", \"w\") as file:\n",
    "                        json.dump(extracted_json, file, indent=4)\n",
    "                    \n",
    "                    print(\"Optimized project JSON saved to 'project.json'.\")\n",
    "                    break  # Exit the retry loop if the operation succeeds\n",
    "\n",
    "                except json.JSONDecodeError as e:\n",
    "                    print(f\"Error parsing JSON (Attempt {attempt + 1}/{retries}): {e}\")\n",
    "                    print(f\"Invalid JSON output: {second_output}\")\n",
    "                    if attempt < retries - 1:  # Retry if there are attempts left\n",
    "                        time.sleep(2)  # Optional: Add a delay before retrying\n",
    "                    else:\n",
    "                        print(\"Max retries reached. Could not parse the JSON.\")\n",
    "                        return\n",
    "\n",
    "        else:\n",
    "            print(\"No valid response received from the first LLM.\")\n",
    "\n",
    "    except Exception as e:\n",
    "        print(f\"Error in LLM processing: {e}\")\n"
   ]
  },
  {
   "cell_type": "code",
   "execution_count": 12,
   "metadata": {},
   "outputs": [
    {
     "name": "stdout",
     "output_type": "stream",
     "text": [
      "Optimized project JSON saved to 'project.json'.\n"
     ]
    }
   ],
   "source": [
    "analyze_projects(candidate_proj,job_description)"
   ]
  }
 ],
 "metadata": {
  "kernelspec": {
   "display_name": "venv",
   "language": "python",
   "name": "python3"
  },
  "language_info": {
   "codemirror_mode": {
    "name": "ipython",
    "version": 3
   },
   "file_extension": ".py",
   "mimetype": "text/x-python",
   "name": "python",
   "nbconvert_exporter": "python",
   "pygments_lexer": "ipython3",
   "version": "3.10.0"
  }
 },
 "nbformat": 4,
 "nbformat_minor": 2
}
